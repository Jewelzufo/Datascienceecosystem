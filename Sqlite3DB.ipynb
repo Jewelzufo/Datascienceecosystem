{
  "nbformat": 4,
  "nbformat_minor": 0,
  "metadata": {
    "colab": {
      "provenance": [],
      "authorship_tag": "ABX9TyNcgbVhZdzp7dTQuDXqo/X5",
      "include_colab_link": true
    },
    "kernelspec": {
      "name": "python3",
      "display_name": "Python 3"
    },
    "language_info": {
      "name": "python"
    }
  },
  "cells": [
    {
      "cell_type": "markdown",
      "metadata": {
        "id": "view-in-github",
        "colab_type": "text"
      },
      "source": [
        "<a href=\"https://colab.research.google.com/github/Jewelzufo/Datascienceecosystem/blob/main/Sqlite3DB.ipynb\" target=\"_parent\"><img src=\"https://colab.research.google.com/assets/colab-badge.svg\" alt=\"Open In Colab\"/></a>"
      ]
    },
    {
      "cell_type": "code",
      "execution_count": 3,
      "metadata": {
        "colab": {
          "base_uri": "https://localhost:8080/"
        },
        "id": "VDJr4IslPnb0",
        "outputId": "3b54578d-078d-4c15-befd-3d4cd4a2c8fc"
      },
      "outputs": [
        {
          "output_type": "stream",
          "name": "stdout",
          "text": [
            "(1, 'Alice', 'alice@example.com')\n",
            "(2, 'Bob', 'bob@example.com')\n",
            "(3, 'Alice', 'alice@example.com')\n",
            "(4, 'Bob', 'bob@example.com')\n",
            "(5, 'Alice', 'alice@example.com')\n",
            "(6, 'Bob', 'bob@example.com')\n"
          ]
        }
      ],
      "source": [
        "import sqlite3\n",
        "\n",
        "# Create a connection to the SQLite database (or create it if it doesn't exist)\n",
        "conn = sqlite3.connect('mydatabase.db')\n",
        "\n",
        "# Get a cursor object to execute SQL commands\n",
        "cursor = conn.cursor()\n",
        "\n",
        "# Create a table (if it doesn't exist)\n",
        "cursor.execute('''CREATE TABLE IF NOT EXISTS customers (\n",
        "                  id INTEGER PRIMARY KEY,\n",
        "                  name TEXT,\n",
        "                  email TEXT\n",
        "                )''')\n",
        "\n",
        "# Insert some data into the table\n",
        "cursor.execute(\"INSERT INTO customers (name, email) VALUES ('Alice', 'alice@example.com')\")\n",
        "cursor.execute(\"INSERT INTO customers (name, email) VALUES ('Bob', 'bob@example.com')\")\n",
        "\n",
        "# Commit the changes to the database\n",
        "conn.commit()\n",
        "\n",
        "# Fetch all rows from the customers table\n",
        "cursor.execute(\"SELECT * FROM customers\")\n",
        "rows = cursor.fetchall()\n",
        "\n",
        "# Print the fetched data\n",
        "for row in rows:\n",
        "    print(row)\n",
        "\n",
        "# Close the connection\n",
        "#\n",
        "conn.close()"
      ]
    },
    {
      "cell_type": "code",
      "source": [
        "import sqlite3\n",
        "\n",
        "conn = sqlite3.connect('mydatabase.db')\n",
        "\n",
        "cursor = conn.cursor()\n",
        "\n",
        "#cursor.execute(\"CREATE TABLE plants (id INTEGER PRIMARY KEY, name TEXT, email TEXT)\")\n",
        "\n",
        "cursor.execute(\"SELECT * FROM customers\")\n",
        "rows = cursor.fetchall()\n",
        "for row in rows:\n",
        "    print(row)\n",
        "\n",
        "conn.commit()\n",
        "conn.close()"
      ],
      "metadata": {
        "colab": {
          "base_uri": "https://localhost:8080/"
        },
        "id": "lqbnXeKPRI0q",
        "outputId": "8424ca73-fd16-4657-9e83-c5ac4c185f7c"
      },
      "execution_count": 11,
      "outputs": [
        {
          "output_type": "stream",
          "name": "stdout",
          "text": [
            "(1, 'Alice', 'alice@example.com')\n",
            "(2, 'Bob', 'bob@example.com')\n",
            "(3, 'Alice', 'alice@example.com')\n",
            "(4, 'Bob', 'bob@example.com')\n",
            "(5, 'Alice', 'alice@example.com')\n",
            "(6, 'Bob', 'bob@example.com')\n"
          ]
        }
      ]
    },
    {
      "cell_type": "code",
      "source": [],
      "metadata": {
        "id": "p5rtNQDhSV00"
      },
      "execution_count": null,
      "outputs": []
    },
    {
      "cell_type": "code",
      "source": [
        "import sqlite3\n",
        "import random\n",
        "import string\n",
        "\n",
        "def generate_random_name():\n",
        "    return ''.join(random.choices(string.ascii_letters, k=random.randint(5, 10)))\n",
        "\n",
        "def generate_random_email():\n",
        "    return ''.join(random.choices(string.ascii_letters, k=random.randint(5, 10))) + '@example.com'\n",
        "\n",
        "conn = sqlite3.connect('mydatabase.db')\n",
        "cursor = conn.cursor()\n",
        "\n",
        "#cursor.execute(\"CREATE TABLE plants (id INTEGER PRIMARY KEY, name TEXT, email TEXT)\")\n",
        "\n",
        "for _ in range(50):\n",
        "    name = generate_random_name()\n",
        "    email = generate_random_email()\n",
        "    cursor.execute(\"INSERT INTO plants (name, email) VALUES (?, ?)\", (name, email))\n",
        "\n",
        "conn.commit()\n",
        "conn.close()"
      ],
      "metadata": {
        "id": "sdrxYGzpSWrn"
      },
      "execution_count": 13,
      "outputs": []
    },
    {
      "cell_type": "code",
      "source": [],
      "metadata": {
        "id": "rig-Z8c3TGsu"
      },
      "execution_count": null,
      "outputs": []
    },
    {
      "cell_type": "code",
      "source": [
        "conn.close()"
      ],
      "metadata": {
        "id": "mbPDmfDDRdPI"
      },
      "execution_count": 9,
      "outputs": []
    },
    {
      "cell_type": "code",
      "source": [
        "import sqlite3\n",
        "import random\n",
        "import string\n",
        "\n",
        "def generate_random_name():\n",
        "    return ''.join(random.choices(string.ascii_letters, k=random.randint(5, 10)))\n",
        "\n",
        "def generate_random_email():\n",
        "    return ''.join(random.choices(string.ascii_letters, k=random.randint(5, 10))) + '@example.com'\n",
        "\n",
        "conn = sqlite3.connect('mydatabase.db')\n",
        "cursor = conn.cursor()\n",
        "\n",
        "for _ in range(50):\n",
        "    name = generate_random_name()\n",
        "    email = generate_random_email()\n",
        "    cursor.execute(\"INSERT INTO plants (name, email) VALUES (?, ?)\", (name, email))\n",
        "\n",
        "conn.commit()\n",
        "conn.close()"
      ],
      "metadata": {
        "id": "Uz-Fpoa2TIf0"
      },
      "execution_count": 15,
      "outputs": []
    },
    {
      "cell_type": "code",
      "source": [
        "import sqlite3\n",
        "import random\n",
        "import string\n",
        "\n",
        "def generate_random_name():\n",
        "    return ''.join(random.choices(string.ascii_letters, k=random.randint(5, 10)))\n",
        "\n",
        "def generate_random_email():\n",
        "    return ''.join(random.choices(string.ascii_letters, k=random.randint(5, 10))) + '@example.com'\n",
        "\n",
        "conn = sqlite3.connect('mydatabase.db')\n",
        "cursor = conn.cursor()\n",
        "\n",
        "# Retrieve the data\n",
        "cursor.execute(\"SELECT * FROM plants\")\n",
        "rows = cursor.fetchall()\n",
        "\n",
        "# Print the data\n",
        "for row in rows:\n",
        "    print(row)\n",
        "\n",
        "conn.close()"
      ],
      "metadata": {
        "colab": {
          "base_uri": "https://localhost:8080/"
        },
        "id": "_NbLyTgpTaLM",
        "outputId": "7b6474cf-5027-47fd-9617-c430486de9a9"
      },
      "execution_count": 16,
      "outputs": [
        {
          "output_type": "stream",
          "name": "stdout",
          "text": [
            "(1, 'sncDpCUFX', 'VKkFekCmh@example.com')\n",
            "(2, 'XrGeeoWFjo', 'wLzUxj@example.com')\n",
            "(3, 'HVCevEdBJW', 'wNjJP@example.com')\n",
            "(4, 'EufBi', 'YoGbikdp@example.com')\n",
            "(5, 'SpSNOS', 'cdMJSGsVV@example.com')\n",
            "(6, 'EwwRkuLrx', 'yQEZJ@example.com')\n",
            "(7, 'iDvTkhDtz', 'QvJzRWWYpq@example.com')\n",
            "(8, 'gNofEgUvy', 'hFjQXxaJYB@example.com')\n",
            "(9, 'wkNtQpAEgw', 'GIpxIrbzW@example.com')\n",
            "(10, 'Tvpzb', 'MOkxaj@example.com')\n",
            "(11, 'mwzZMqvKiC', 'NeUkjKzn@example.com')\n",
            "(12, 'glusayN', 'PUMoRY@example.com')\n",
            "(13, 'grFaYPahe', 'PXkzy@example.com')\n",
            "(14, 'fXLyuKviN', 'LwCuIu@example.com')\n",
            "(15, 'RyurxTY', 'LIQlRPO@example.com')\n",
            "(16, 'AlVKZE', 'WxORSzpU@example.com')\n",
            "(17, 'tItateEn', 'ZBOaTtr@example.com')\n",
            "(18, 'JeaGrtRvF', 'TUwPda@example.com')\n",
            "(19, 'UsYLKv', 'azOkX@example.com')\n",
            "(20, 'IWwfkJgaZ', 'Cknqamey@example.com')\n",
            "(21, 'YOdcIef', 'IfrlY@example.com')\n",
            "(22, 'bVFZhKtbPC', 'fGqWooQ@example.com')\n",
            "(23, 'wDEbvw', 'fIaxs@example.com')\n",
            "(24, 'PKIGn', 'JbtPTdBKv@example.com')\n",
            "(25, 'rMYYOjWZ', 'sUJVl@example.com')\n",
            "(26, 'bypbjgzcl', 'ZhJaAKsmV@example.com')\n",
            "(27, 'Woquyy', 'qUimIZ@example.com')\n",
            "(28, 'UkwJCsh', 'ZeRCpKqqbl@example.com')\n",
            "(29, 'ojUrzp', 'FKfhIFLzxD@example.com')\n",
            "(30, 'tkHtaserLD', 'hvaRGphbQ@example.com')\n",
            "(31, 'QwLOPwS', 'sekwp@example.com')\n",
            "(32, 'OIlgYqPu', 'AXkbRTUr@example.com')\n",
            "(33, 'VMiElWgAC', 'lfTfuyH@example.com')\n",
            "(34, 'tXFyonBQQE', 'EfMZytzHKU@example.com')\n",
            "(35, 'gTytXd', 'LXCMcvv@example.com')\n",
            "(36, 'Dfmamx', 'cNcppuFZo@example.com')\n",
            "(37, 'OSJbK', 'sFSbG@example.com')\n",
            "(38, 'zoDMCvCt', 'ecTaCZnO@example.com')\n",
            "(39, 'BUfnoA', 'bEOdNLM@example.com')\n",
            "(40, 'RuAvgjs', 'TmGkiZ@example.com')\n",
            "(41, 'qdQJxJ', 'OCrfz@example.com')\n",
            "(42, 'pbjKeGWD', 'wvVTe@example.com')\n",
            "(43, 'xolPqzSI', 'lDlzZlAkr@example.com')\n",
            "(44, 'dMFsutMPTW', 'rQGJtC@example.com')\n",
            "(45, 'DcTiRRSd', 'eFVmxOq@example.com')\n",
            "(46, 'bLygE', 'kYQwvpLdvt@example.com')\n",
            "(47, 'ZpPuwqjDvN', 'LxbYqM@example.com')\n",
            "(48, 'xRIlxyr', 'yzrKM@example.com')\n",
            "(49, 'mvlvuVwXGV', 'oapCcFEcL@example.com')\n",
            "(50, 'FGFEUalS', 'GtHFSSz@example.com')\n",
            "(51, 'krtfHSH', 'SPbkEkB@example.com')\n",
            "(52, 'gerRKyF', 'ApITBD@example.com')\n",
            "(53, 'vqhvRtj', 'OsOVg@example.com')\n",
            "(54, 'NWEAZDlb', 'ZCkjZXQg@example.com')\n",
            "(55, 'EpshUY', 'xplrXPD@example.com')\n",
            "(56, 'mQeIZKpYyQ', 'GrWQXiu@example.com')\n",
            "(57, 'QdduL', 'InRgDOLDhx@example.com')\n",
            "(58, 'MbrIxba', 'tnjcpvRNO@example.com')\n",
            "(59, 'obLIhej', 'sbYjIiEJc@example.com')\n",
            "(60, 'uKPKAw', 'IrJNHaLdDw@example.com')\n",
            "(61, 'eeknRek', 'enJbEwq@example.com')\n",
            "(62, 'JVObPl', 'YInpHTG@example.com')\n",
            "(63, 'sanJNgF', 'vjzpymCh@example.com')\n",
            "(64, 'yudupRuk', 'bTsCEmd@example.com')\n",
            "(65, 'hBRQmHSM', 'wFLBNHBPS@example.com')\n",
            "(66, 'pPJygPWhK', 'gSiKnFQPgp@example.com')\n",
            "(67, 'iejyBYImCa', 'vTeGGVc@example.com')\n",
            "(68, 'czaKued', 'AqJmvDq@example.com')\n",
            "(69, 'ytMUcTQ', 'jAvtH@example.com')\n",
            "(70, 'GjoZcQWL', 'AtITPrF@example.com')\n",
            "(71, 'ssShAtC', 'PkwgWPtT@example.com')\n",
            "(72, 'pVXuvX', 'LpOug@example.com')\n",
            "(73, 'RvFIStaU', 'ylTgQrcZGP@example.com')\n",
            "(74, 'IcpPjSC', 'twgEiVg@example.com')\n",
            "(75, 'EuZiKbNAsH', 'jYrEEUF@example.com')\n",
            "(76, 'pBwAobm', 'HVVRI@example.com')\n",
            "(77, 'xuJhjCTU', 'DHNOycXhu@example.com')\n",
            "(78, 'vKoFqb', 'UZlIGBzT@example.com')\n",
            "(79, 'Vabnc', 'xabYFg@example.com')\n",
            "(80, 'myZFIxSDk', 'cXrIKLz@example.com')\n",
            "(81, 'xfnBACrUs', 'WzsrfhS@example.com')\n",
            "(82, 'TnuxPYQs', 'SnluxfU@example.com')\n",
            "(83, 'HgDTSprfN', 'svCvN@example.com')\n",
            "(84, 'SvgaaRjzTF', 'PvChLjoq@example.com')\n",
            "(85, 'Qdfsvb', 'OjlAqKGEIK@example.com')\n",
            "(86, 'wYPDa', 'BOVMKMZbJq@example.com')\n",
            "(87, 'ZZXHoUgs', 'pGwnoxf@example.com')\n",
            "(88, 'KeoHwdP', 'aooNNKpZpP@example.com')\n",
            "(89, 'LsHts', 'YPTuyhYAtR@example.com')\n",
            "(90, 'XzGYdBHO', 'rackfHubG@example.com')\n",
            "(91, 'yiVbxKyZgO', 'UizxcnZ@example.com')\n",
            "(92, 'HNMDdCpJQ', 'TtqmBrxClC@example.com')\n",
            "(93, 'ArjGt', 'OjYDENGGo@example.com')\n",
            "(94, 'UAYguqlmM', 'zDXLDhE@example.com')\n",
            "(95, 'SOkHQe', 'AsxEXCf@example.com')\n",
            "(96, 'VCwxgwms', 'GyoztLGR@example.com')\n",
            "(97, 'YcMdI', 'WugPJ@example.com')\n",
            "(98, 'dhTGIJZQlm', 'yyEmxqwMuy@example.com')\n",
            "(99, 'mQCTCQFRy', 'TpoVIuTa@example.com')\n",
            "(100, 'uQECxVtzSW', 'GotZR@example.com')\n"
          ]
        }
      ]
    }
  ]
}